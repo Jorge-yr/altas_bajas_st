{
 "cells": [
  {
   "cell_type": "code",
   "execution_count": 14,
   "metadata": {},
   "outputs": [
    {
     "name": "stdout",
     "output_type": "stream",
     "text": [
      "c:\\Users\\jorge_ramirez\\OneDrive - Previsora del Parana SRL\\Escritorio\\0_proyectos Python\\Altas_Bajas_cambio\n",
      "[('Estado Productos 07-10-24.xlsx', 1728312448.9593577), ('Estado Productos 01-10-24.xlsx', 1728070940.055994), ('Estado Productos 09-09-24.xlsx', 1725896100.0)]\n"
     ]
    }
   ],
   "source": [
    "#!/usr/bin/env python3\n",
    "\n",
    "# Jorge Ramirez\n",
    "# 2024 09 02\n",
    "# Subdividir el excel de compras en 4 para informar a las sucursales.\n",
    "\n",
    "\n",
    "\n",
    "import pandas as pd\n",
    "import numpy as np\n",
    "import matplotlib.pyplot as plt\n",
    "import matplotlib\n",
    "import seaborn as sns    \n",
    "import os\n",
    "import openpyxl\n",
    "import shutil\n",
    "\n",
    "from openpyxl import load_workbook\n",
    "import sys\n",
    "\n",
    "os.chdir(\"c:/Users/jorge_ramirez/OneDrive - Previsora del Parana SRL/Escritorio/0_proyectos Python/Altas_Bajas_cambio/\")\n",
    "diractual = os.getcwd() # para conocer el Current Working Directory\n",
    "print(diractual)\n",
    "\n",
    "\n",
    "# ________________________________   ______________________________\n",
    "# Importar un excel desde una ruta especifica\n",
    "\n",
    "from openpyxl import load_workbook\n",
    "from openpyxl.utils import get_column_letter\n",
    "from pprint import pprint\n",
    "\n",
    "\n",
    "#df_quiebres = pd.read_excel(r\"C:\\Users\\jorge_ramirez\\OneDrive - Previsora del Parana SRL\\Escritorio\\0_proyectos Python\\prediccion_Ventas\\02_VER_QUIEBRES.xlsx\", sheet_name=\"Sheet1\") # Nombres de columnas \n",
    "\n",
    "\n",
    "# Función para ver los ultimos 3 archivos de una carpeta\n",
    "from os import scandir, getcwd\n",
    "\n",
    "def get_newest_files(folder_path, num_files=3):\n",
    "    file_timestamps = [(file.name, file.stat().st_mtime) for file in scandir(folder_path) if file.is_file()]\n",
    "    sorted_files = sorted(file_timestamps, key=lambda x: x[1], reverse=True)\n",
    "    newest_files = sorted_files[:num_files]\n",
    "    return newest_files\n",
    "\n",
    "# Especifica la ruta de la carpeta \n",
    "folder_path = \"files_import/\"\n",
    "nf = get_newest_files(folder_path, num_files=3)\n",
    "\n",
    "print(nf)\n",
    "\n",
    "\n",
    "nombre_excel_cambios = input(\"Ingresa el nombre del Excel cambios. nf00 - {}:\".format(nf[0][0]))\n",
    "\n",
    "while os.path.exists(\"files_import/{}.xlsx\".format(nombre_excel_cambios)) == False:\n",
    "   nombre_excel_ofertas = input(\"Nombre error, Ingresé nombre del Excel: \")\n",
    "    \n",
    "nombre_excel = \"files_import/{}.xlsx\".format(nombre_excel_cambios)"
   ]
  },
  {
   "cell_type": "code",
   "execution_count": 15,
   "metadata": {},
   "outputs": [],
   "source": [
    "\n",
    "# Ruta del archivo Excel\n",
    "file_path = nombre_excel\n",
    "\n",
    "# Leer las hojas en dataframes\n",
    "df_super = pd.read_excel(file_path, sheet_name='SUPER', header=4)\n",
    "df_electro = pd.read_excel(file_path, sheet_name='ELECTRO', header=4)\n"
   ]
  },
  {
   "cell_type": "code",
   "execution_count": 16,
   "metadata": {},
   "outputs": [],
   "source": [
    "def Cambia_nombre_STATUS(data_frame):\n",
    "    columns_names = data_frame.columns[3:]\n",
    "    cambia_nombre = input(\"desea cambiar el nombre a STATUS, de {}\".format(columns_names))\n",
    "    data_frame = data_frame.rename(columns={\"{}\".format(cambia_nombre):\"STATUS\"})\n",
    "    return data_frame\n",
    "\n",
    "df_electro = Cambia_nombre_STATUS(df_electro)\n",
    "\n",
    "df_super = Cambia_nombre_STATUS(df_super)"
   ]
  },
  {
   "cell_type": "code",
   "execution_count": 17,
   "metadata": {},
   "outputs": [],
   "source": [
    "# reemplazo el texto en la columna status, para emprolijar\n",
    "\n",
    "df_electro['STATUS'] = df_electro['STATUS'].replace('No existe - Producto nuevo', 'Producto nuevo')\n",
    "df_super['STATUS'] = df_super['STATUS'].replace('No existe - Producto nuevo', 'Producto nuevo')"
   ]
  },
  {
   "cell_type": "code",
   "execution_count": 18,
   "metadata": {},
   "outputs": [],
   "source": [
    "# Quitar espacios en blanco mal puestos y poner mayuscula en la primer letra\n",
    "\n",
    "def capitalice_text (columna):\n",
    "    '''Quitar espacios en blanco mal puestos y poner mayuscula en la primer letra'''\n",
    "    columna_nueva = []\n",
    "    for texto in columna:\n",
    "        texto1 = texto.strip().lower().capitalize()\n",
    "        columna_nueva.append(texto1)\n",
    "    return columna_nueva\n",
    "\n",
    "\n",
    "df_super['STATUS'] = capitalice_text(df_super['STATUS'])\n",
    "df_electro['STATUS'] = capitalice_text(df_electro['STATUS'])"
   ]
  },
  {
   "cell_type": "code",
   "execution_count": 19,
   "metadata": {},
   "outputs": [
    {
     "data": {
      "text/plain": [
       "array(['Cambió', 'Producto nuevo'], dtype=object)"
      ]
     },
     "execution_count": 19,
     "metadata": {},
     "output_type": "execute_result"
    }
   ],
   "source": [
    "df_super['STATUS'].unique()"
   ]
  },
  {
   "cell_type": "code",
   "execution_count": 20,
   "metadata": {},
   "outputs": [
    {
     "name": "stdout",
     "output_type": "stream",
     "text": [
      "Nombre: super_art_nuevos, Tamaño: 5\n",
      "Nombre: super_art_cambios, Tamaño: 17\n",
      "Nombre: electro_art_nuevos, Tamaño: 13\n",
      "Nombre: electro_art_cambios, Tamaño: 1\n"
     ]
    }
   ],
   "source": [
    "\n",
    "\n",
    "# Subdividir los dataframes según la variable 'DISCONTINUIDAD'\n",
    "super_art_nuevos = df_super[df_super['STATUS'] == 'Producto nuevo']\n",
    "super_art_cambios = df_super[df_super['STATUS'] != 'Producto nuevo']\n",
    "\n",
    "electro_art_nuevos = df_electro[df_electro['STATUS'] == 'Producto nuevo']\n",
    "electro_art_cambios = df_electro[df_electro['STATUS'] != 'Producto nuevo']\n",
    "\n",
    "# Ver el tamaño de una lista de dataframes, con los nombres como string\n",
    "def lists_size(list_names_dfs):\n",
    "    '''Ver el tamaño de una lista de nombres en formato str de dataframes''' \n",
    "    for i in list_names_dfs:\n",
    "        df = globals()[i]  # Obtener el dataframe por su nombre\n",
    "        tamaño = len(df)  # Obtener el tamaño del dataframe\n",
    "        print(f\"Nombre: {i}, Tamaño: {tamaño}\")\n",
    "\n",
    "lists_size(['super_art_nuevos', 'super_art_cambios', 'electro_art_nuevos', 'electro_art_cambios'])\n",
    "\n",
    "# Exportar los dataframes a archivos Excel\n",
    "super_art_nuevos.to_excel('SUPER_Art_Nuevos.xlsx', index=False)\n",
    "super_art_cambios.to_excel('SUPER_Art_Cambios.xlsx', index=False)\n",
    "electro_art_nuevos.to_excel('Electro_Art_Nuevos.xlsx', index=False)\n",
    "electro_art_cambios.to_excel('Electro_Art_Cambios.xlsx', index=False)\n",
    "\n",
    "# Crear gráficos\n",
    "def create_bar_chart(df, title, filename):\n",
    "    if not df.empty:\n",
    "        df['MARCA'].value_counts().plot(kind='bar')\n",
    "        plt.title(title)\n",
    "        plt.xlabel('Marca')\n",
    "        plt.ylabel('Cantidad')\n",
    "        plt.savefig(filename, dpi=100, bbox_inches='tight')\n",
    "        plt.close()\n",
    "    else:\n",
    "        print(f\"No hay datos para {title}, no se creó el gráfico.\")\n",
    "\n"
   ]
  },
  {
   "cell_type": "code",
   "execution_count": 21,
   "metadata": {},
   "outputs": [
    {
     "name": "stdout",
     "output_type": "stream",
     "text": [
      "Los archivos Excel y gráficos se han exportado correctamente.\n"
     ]
    }
   ],
   "source": [
    "# Crear gráficos para cada dataframe\n",
    "create_bar_chart(super_art_nuevos, 'SUPER - Productos Nuevos', '01_SUPER_Art_Nuevos.png')\n",
    "create_bar_chart(super_art_cambios, 'SUPER - Productos Cambiados', '02_SUPER_Art_Cambios.png')\n",
    "create_bar_chart(electro_art_nuevos, 'ELECTRO - Productos Nuevos', '01_Electro_Art_Nuevos.png')\n",
    "create_bar_chart(electro_art_cambios, 'ELECTRO - Productos Cambiados', '02_Electro_Art_Cambios.png')\n",
    "\n",
    "print(\"Los archivos Excel y gráficos se han exportado correctamente.\")\n"
   ]
  }
 ],
 "metadata": {
  "kernelspec": {
   "display_name": "Python 3",
   "language": "python",
   "name": "python3"
  },
  "language_info": {
   "codemirror_mode": {
    "name": "ipython",
    "version": 3
   },
   "file_extension": ".py",
   "mimetype": "text/x-python",
   "name": "python",
   "nbconvert_exporter": "python",
   "pygments_lexer": "ipython3",
   "version": "3.11.4"
  }
 },
 "nbformat": 4,
 "nbformat_minor": 2
}
